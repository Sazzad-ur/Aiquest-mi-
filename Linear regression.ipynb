{
 "cells": [
  {
   "cell_type": "code",
   "execution_count": 8,
   "id": "d4ebda7c",
   "metadata": {},
   "outputs": [],
   "source": [
    "#importing library\n",
    "import numpy as np\n",
    "import matplotlib.pyplot as plt\n",
    "import pandas as pd"
   ]
  },
  {
   "cell_type": "code",
   "execution_count": 9,
   "id": "ac278a59",
   "metadata": {},
   "outputs": [],
   "source": [
    "df = pd.read_csv(\"Linear Regression - Sheet1.csv\") #pandas helps to read dataset"
   ]
  },
  {
   "cell_type": "code",
   "execution_count": 10,
   "id": "626ba933",
   "metadata": {},
   "outputs": [
    {
     "data": {
      "text/html": [
       "<div>\n",
       "<style scoped>\n",
       "    .dataframe tbody tr th:only-of-type {\n",
       "        vertical-align: middle;\n",
       "    }\n",
       "\n",
       "    .dataframe tbody tr th {\n",
       "        vertical-align: top;\n",
       "    }\n",
       "\n",
       "    .dataframe thead th {\n",
       "        text-align: right;\n",
       "    }\n",
       "</style>\n",
       "<table border=\"1\" class=\"dataframe\">\n",
       "  <thead>\n",
       "    <tr style=\"text-align: right;\">\n",
       "      <th></th>\n",
       "      <th>X</th>\n",
       "      <th>Y</th>\n",
       "    </tr>\n",
       "  </thead>\n",
       "  <tbody>\n",
       "    <tr>\n",
       "      <th>0</th>\n",
       "      <td>1</td>\n",
       "      <td>3.888889</td>\n",
       "    </tr>\n",
       "    <tr>\n",
       "      <th>1</th>\n",
       "      <td>2</td>\n",
       "      <td>4.555556</td>\n",
       "    </tr>\n",
       "    <tr>\n",
       "      <th>2</th>\n",
       "      <td>3</td>\n",
       "      <td>5.222222</td>\n",
       "    </tr>\n",
       "    <tr>\n",
       "      <th>3</th>\n",
       "      <td>4</td>\n",
       "      <td>5.888889</td>\n",
       "    </tr>\n",
       "    <tr>\n",
       "      <th>4</th>\n",
       "      <td>5</td>\n",
       "      <td>6.555556</td>\n",
       "    </tr>\n",
       "    <tr>\n",
       "      <th>...</th>\n",
       "      <td>...</td>\n",
       "      <td>...</td>\n",
       "    </tr>\n",
       "    <tr>\n",
       "      <th>295</th>\n",
       "      <td>296</td>\n",
       "      <td>200.555556</td>\n",
       "    </tr>\n",
       "    <tr>\n",
       "      <th>296</th>\n",
       "      <td>297</td>\n",
       "      <td>201.222222</td>\n",
       "    </tr>\n",
       "    <tr>\n",
       "      <th>297</th>\n",
       "      <td>298</td>\n",
       "      <td>201.888889</td>\n",
       "    </tr>\n",
       "    <tr>\n",
       "      <th>298</th>\n",
       "      <td>299</td>\n",
       "      <td>1.888889</td>\n",
       "    </tr>\n",
       "    <tr>\n",
       "      <th>299</th>\n",
       "      <td>300</td>\n",
       "      <td>1.888889</td>\n",
       "    </tr>\n",
       "  </tbody>\n",
       "</table>\n",
       "<p>300 rows × 2 columns</p>\n",
       "</div>"
      ],
      "text/plain": [
       "       X           Y\n",
       "0      1    3.888889\n",
       "1      2    4.555556\n",
       "2      3    5.222222\n",
       "3      4    5.888889\n",
       "4      5    6.555556\n",
       "..   ...         ...\n",
       "295  296  200.555556\n",
       "296  297  201.222222\n",
       "297  298  201.888889\n",
       "298  299    1.888889\n",
       "299  300    1.888889\n",
       "\n",
       "[300 rows x 2 columns]"
      ]
     },
     "execution_count": 10,
     "metadata": {},
     "output_type": "execute_result"
    }
   ],
   "source": [
    "df"
   ]
  },
  {
   "cell_type": "code",
   "execution_count": 11,
   "id": "699e6459",
   "metadata": {},
   "outputs": [
    {
     "data": {
      "text/html": [
       "<div>\n",
       "<style scoped>\n",
       "    .dataframe tbody tr th:only-of-type {\n",
       "        vertical-align: middle;\n",
       "    }\n",
       "\n",
       "    .dataframe tbody tr th {\n",
       "        vertical-align: top;\n",
       "    }\n",
       "\n",
       "    .dataframe thead th {\n",
       "        text-align: right;\n",
       "    }\n",
       "</style>\n",
       "<table border=\"1\" class=\"dataframe\">\n",
       "  <thead>\n",
       "    <tr style=\"text-align: right;\">\n",
       "      <th></th>\n",
       "      <th>X</th>\n",
       "      <th>Y</th>\n",
       "    </tr>\n",
       "  </thead>\n",
       "  <tbody>\n",
       "    <tr>\n",
       "      <th>0</th>\n",
       "      <td>1</td>\n",
       "      <td>3.888889</td>\n",
       "    </tr>\n",
       "    <tr>\n",
       "      <th>1</th>\n",
       "      <td>2</td>\n",
       "      <td>4.555556</td>\n",
       "    </tr>\n",
       "    <tr>\n",
       "      <th>2</th>\n",
       "      <td>3</td>\n",
       "      <td>5.222222</td>\n",
       "    </tr>\n",
       "    <tr>\n",
       "      <th>3</th>\n",
       "      <td>4</td>\n",
       "      <td>5.888889</td>\n",
       "    </tr>\n",
       "    <tr>\n",
       "      <th>4</th>\n",
       "      <td>5</td>\n",
       "      <td>6.555556</td>\n",
       "    </tr>\n",
       "    <tr>\n",
       "      <th>5</th>\n",
       "      <td>6</td>\n",
       "      <td>7.222222</td>\n",
       "    </tr>\n",
       "    <tr>\n",
       "      <th>6</th>\n",
       "      <td>7</td>\n",
       "      <td>7.888889</td>\n",
       "    </tr>\n",
       "    <tr>\n",
       "      <th>7</th>\n",
       "      <td>8</td>\n",
       "      <td>8.555556</td>\n",
       "    </tr>\n",
       "    <tr>\n",
       "      <th>8</th>\n",
       "      <td>9</td>\n",
       "      <td>9.222222</td>\n",
       "    </tr>\n",
       "    <tr>\n",
       "      <th>9</th>\n",
       "      <td>10</td>\n",
       "      <td>9.888889</td>\n",
       "    </tr>\n",
       "    <tr>\n",
       "      <th>10</th>\n",
       "      <td>11</td>\n",
       "      <td>10.555556</td>\n",
       "    </tr>\n",
       "    <tr>\n",
       "      <th>11</th>\n",
       "      <td>12</td>\n",
       "      <td>11.222222</td>\n",
       "    </tr>\n",
       "    <tr>\n",
       "      <th>12</th>\n",
       "      <td>13</td>\n",
       "      <td>11.888889</td>\n",
       "    </tr>\n",
       "    <tr>\n",
       "      <th>13</th>\n",
       "      <td>14</td>\n",
       "      <td>12.555556</td>\n",
       "    </tr>\n",
       "    <tr>\n",
       "      <th>14</th>\n",
       "      <td>15</td>\n",
       "      <td>13.222222</td>\n",
       "    </tr>\n",
       "  </tbody>\n",
       "</table>\n",
       "</div>"
      ],
      "text/plain": [
       "     X          Y\n",
       "0    1   3.888889\n",
       "1    2   4.555556\n",
       "2    3   5.222222\n",
       "3    4   5.888889\n",
       "4    5   6.555556\n",
       "5    6   7.222222\n",
       "6    7   7.888889\n",
       "7    8   8.555556\n",
       "8    9   9.222222\n",
       "9   10   9.888889\n",
       "10  11  10.555556\n",
       "11  12  11.222222\n",
       "12  13  11.888889\n",
       "13  14  12.555556\n",
       "14  15  13.222222"
      ]
     },
     "execution_count": 11,
     "metadata": {},
     "output_type": "execute_result"
    }
   ],
   "source": [
    "df.head(15)"
   ]
  },
  {
   "cell_type": "code",
   "execution_count": 12,
   "id": "50a7221c",
   "metadata": {},
   "outputs": [
    {
     "data": {
      "text/plain": [
       "(300, 2)"
      ]
     },
     "execution_count": 12,
     "metadata": {},
     "output_type": "execute_result"
    }
   ],
   "source": [
    "df.shape"
   ]
  },
  {
   "cell_type": "code",
   "execution_count": 13,
   "id": "e7951c88",
   "metadata": {},
   "outputs": [
    {
     "data": {
      "text/plain": [
       "X    False\n",
       "Y    False\n",
       "dtype: bool"
      ]
     },
     "execution_count": 13,
     "metadata": {},
     "output_type": "execute_result"
    }
   ],
   "source": [
    "df.isnull().any()"
   ]
  },
  {
   "cell_type": "code",
   "execution_count": 14,
   "id": "2a4113c0",
   "metadata": {},
   "outputs": [
    {
     "data": {
      "text/plain": [
       "X    0\n",
       "Y    0\n",
       "dtype: int64"
      ]
     },
     "execution_count": 14,
     "metadata": {},
     "output_type": "execute_result"
    }
   ],
   "source": [
    "df.isnull().sum()"
   ]
  },
  {
   "cell_type": "code",
   "execution_count": 31,
   "id": "3c84e145",
   "metadata": {},
   "outputs": [],
   "source": [
    "datax = df[['X']] #independent variable\n",
    "datay = df['Y'] #dependent variable"
   ]
  },
  {
   "cell_type": "code",
   "execution_count": 32,
   "id": "6b826469",
   "metadata": {},
   "outputs": [
    {
     "data": {
      "text/html": [
       "<div>\n",
       "<style scoped>\n",
       "    .dataframe tbody tr th:only-of-type {\n",
       "        vertical-align: middle;\n",
       "    }\n",
       "\n",
       "    .dataframe tbody tr th {\n",
       "        vertical-align: top;\n",
       "    }\n",
       "\n",
       "    .dataframe thead th {\n",
       "        text-align: right;\n",
       "    }\n",
       "</style>\n",
       "<table border=\"1\" class=\"dataframe\">\n",
       "  <thead>\n",
       "    <tr style=\"text-align: right;\">\n",
       "      <th></th>\n",
       "      <th>X</th>\n",
       "    </tr>\n",
       "  </thead>\n",
       "  <tbody>\n",
       "    <tr>\n",
       "      <th>0</th>\n",
       "      <td>1</td>\n",
       "    </tr>\n",
       "    <tr>\n",
       "      <th>1</th>\n",
       "      <td>2</td>\n",
       "    </tr>\n",
       "    <tr>\n",
       "      <th>2</th>\n",
       "      <td>3</td>\n",
       "    </tr>\n",
       "    <tr>\n",
       "      <th>3</th>\n",
       "      <td>4</td>\n",
       "    </tr>\n",
       "    <tr>\n",
       "      <th>4</th>\n",
       "      <td>5</td>\n",
       "    </tr>\n",
       "    <tr>\n",
       "      <th>...</th>\n",
       "      <td>...</td>\n",
       "    </tr>\n",
       "    <tr>\n",
       "      <th>295</th>\n",
       "      <td>296</td>\n",
       "    </tr>\n",
       "    <tr>\n",
       "      <th>296</th>\n",
       "      <td>297</td>\n",
       "    </tr>\n",
       "    <tr>\n",
       "      <th>297</th>\n",
       "      <td>298</td>\n",
       "    </tr>\n",
       "    <tr>\n",
       "      <th>298</th>\n",
       "      <td>299</td>\n",
       "    </tr>\n",
       "    <tr>\n",
       "      <th>299</th>\n",
       "      <td>300</td>\n",
       "    </tr>\n",
       "  </tbody>\n",
       "</table>\n",
       "<p>300 rows × 1 columns</p>\n",
       "</div>"
      ],
      "text/plain": [
       "       X\n",
       "0      1\n",
       "1      2\n",
       "2      3\n",
       "3      4\n",
       "4      5\n",
       "..   ...\n",
       "295  296\n",
       "296  297\n",
       "297  298\n",
       "298  299\n",
       "299  300\n",
       "\n",
       "[300 rows x 1 columns]"
      ]
     },
     "execution_count": 32,
     "metadata": {},
     "output_type": "execute_result"
    }
   ],
   "source": [
    "datax"
   ]
  },
  {
   "cell_type": "code",
   "execution_count": 33,
   "id": "a618a05f",
   "metadata": {},
   "outputs": [
    {
     "data": {
      "text/plain": [
       "0        3.888889\n",
       "1        4.555556\n",
       "2        5.222222\n",
       "3        5.888889\n",
       "4        6.555556\n",
       "          ...    \n",
       "295    200.555556\n",
       "296    201.222222\n",
       "297    201.888889\n",
       "298      1.888889\n",
       "299      1.888889\n",
       "Name: Y, Length: 300, dtype: float64"
      ]
     },
     "execution_count": 33,
     "metadata": {},
     "output_type": "execute_result"
    }
   ],
   "source": [
    "datay"
   ]
  },
  {
   "cell_type": "markdown",
   "id": "ce7ae641",
   "metadata": {},
   "source": [
    "# Visualization"
   ]
  },
  {
   "cell_type": "code",
   "execution_count": 59,
   "id": "65d4ed15",
   "metadata": {},
   "outputs": [
    {
     "data": {
      "text/plain": [
       "[<matplotlib.lines.Line2D at 0x23e68298a30>]"
      ]
     },
     "execution_count": 59,
     "metadata": {},
     "output_type": "execute_result"
    },
    {
     "data": {
      "image/png": "[encoded data removed]",
      "text/plain": [
       "<Figure size 432x288 with 1 Axes>"
      ]
     },
     "metadata": {
      "needs_background": "light"
     },
     "output_type": "display_data"
    }
   ],
   "source": [
    "plt.scatter(df['X'],df['Y'],marker='+',color='black') #vizualization process\n",
    "plt.xlabel('X in doller') #x axis title\n",
    "plt.ylabel('Y in inch') #y axis title\n",
    "plt.title('HOmIes') #vizualization_title\n",
    "plt.plot(df.X, reg.predict(df[['X']])) #bestfit line"
   ]
  },
  {
   "cell_type": "code",
   "execution_count": 45,
   "id": "c029bf1a",
   "metadata": {},
   "outputs": [],
   "source": [
    "from sklearn.model_selection import train_test_split #sklearn theke train test model selection kora hoise"
   ]
  },
  {
   "cell_type": "code",
   "execution_count": 46,
   "id": "fbb8a523",
   "metadata": {},
   "outputs": [],
   "source": [
    "dataxtrain, dataxtest, dataytrain,dataytest = train_test_split(datax,datay, test_size=.43, random_state=1)"
   ]
  },
  {
   "cell_type": "code",
   "execution_count": 47,
   "id": "f61ec5a4",
   "metadata": {},
   "outputs": [
    {
     "data": {
      "text/html": [
       "<div>\n",
       "<style scoped>\n",
       "    .dataframe tbody tr th:only-of-type {\n",
       "        vertical-align: middle;\n",
       "    }\n",
       "\n",
       "    .dataframe tbody tr th {\n",
       "        vertical-align: top;\n",
       "    }\n",
       "\n",
       "    .dataframe thead th {\n",
       "        text-align: right;\n",
       "    }\n",
       "</style>\n",
       "<table border=\"1\" class=\"dataframe\">\n",
       "  <thead>\n",
       "    <tr style=\"text-align: right;\">\n",
       "      <th></th>\n",
       "      <th>X</th>\n",
       "    </tr>\n",
       "  </thead>\n",
       "  <tbody>\n",
       "    <tr>\n",
       "      <th>223</th>\n",
       "      <td>224</td>\n",
       "    </tr>\n",
       "    <tr>\n",
       "      <th>225</th>\n",
       "      <td>226</td>\n",
       "    </tr>\n",
       "    <tr>\n",
       "      <th>66</th>\n",
       "      <td>67</td>\n",
       "    </tr>\n",
       "    <tr>\n",
       "      <th>154</th>\n",
       "      <td>155</td>\n",
       "    </tr>\n",
       "    <tr>\n",
       "      <th>188</th>\n",
       "      <td>189</td>\n",
       "    </tr>\n",
       "    <tr>\n",
       "      <th>...</th>\n",
       "      <td>...</td>\n",
       "    </tr>\n",
       "    <tr>\n",
       "      <th>203</th>\n",
       "      <td>204</td>\n",
       "    </tr>\n",
       "    <tr>\n",
       "      <th>255</th>\n",
       "      <td>256</td>\n",
       "    </tr>\n",
       "    <tr>\n",
       "      <th>72</th>\n",
       "      <td>73</td>\n",
       "    </tr>\n",
       "    <tr>\n",
       "      <th>235</th>\n",
       "      <td>236</td>\n",
       "    </tr>\n",
       "    <tr>\n",
       "      <th>37</th>\n",
       "      <td>38</td>\n",
       "    </tr>\n",
       "  </tbody>\n",
       "</table>\n",
       "<p>171 rows × 1 columns</p>\n",
       "</div>"
      ],
      "text/plain": [
       "       X\n",
       "223  224\n",
       "225  226\n",
       "66    67\n",
       "154  155\n",
       "188  189\n",
       "..   ...\n",
       "203  204\n",
       "255  256\n",
       "72    73\n",
       "235  236\n",
       "37    38\n",
       "\n",
       "[171 rows x 1 columns]"
      ]
     },
     "execution_count": 47,
     "metadata": {},
     "output_type": "execute_result"
    }
   ],
   "source": [
    "dataxtrain"
   ]
  },
  {
   "cell_type": "code",
   "execution_count": 49,
   "id": "ba33911d",
   "metadata": {},
   "outputs": [
    {
     "data": {
      "text/plain": [
       "223    152.555556\n",
       "225    153.888889\n",
       "66      47.888889\n",
       "154    106.555556\n",
       "188    129.222222\n",
       "          ...    \n",
       "203    139.222222\n",
       "255    173.888889\n",
       "72      51.888889\n",
       "235    160.555556\n",
       "37      28.555556\n",
       "Name: Y, Length: 171, dtype: float64"
      ]
     },
     "execution_count": 49,
     "metadata": {},
     "output_type": "execute_result"
    }
   ],
   "source": [
    "dataytrain"
   ]
  },
  {
   "cell_type": "code",
   "execution_count": 48,
   "id": "61c8f168",
   "metadata": {},
   "outputs": [
    {
     "data": {
      "text/html": [
       "<div>\n",
       "<style scoped>\n",
       "    .dataframe tbody tr th:only-of-type {\n",
       "        vertical-align: middle;\n",
       "    }\n",
       "\n",
       "    .dataframe tbody tr th {\n",
       "        vertical-align: top;\n",
       "    }\n",
       "\n",
       "    .dataframe thead th {\n",
       "        text-align: right;\n",
       "    }\n",
       "</style>\n",
       "<table border=\"1\" class=\"dataframe\">\n",
       "  <thead>\n",
       "    <tr style=\"text-align: right;\">\n",
       "      <th></th>\n",
       "      <th>X</th>\n",
       "    </tr>\n",
       "  </thead>\n",
       "  <tbody>\n",
       "    <tr>\n",
       "      <th>189</th>\n",
       "      <td>190</td>\n",
       "    </tr>\n",
       "    <tr>\n",
       "      <th>123</th>\n",
       "      <td>124</td>\n",
       "    </tr>\n",
       "    <tr>\n",
       "      <th>185</th>\n",
       "      <td>186</td>\n",
       "    </tr>\n",
       "    <tr>\n",
       "      <th>213</th>\n",
       "      <td>214</td>\n",
       "    </tr>\n",
       "    <tr>\n",
       "      <th>106</th>\n",
       "      <td>107</td>\n",
       "    </tr>\n",
       "    <tr>\n",
       "      <th>...</th>\n",
       "      <td>...</td>\n",
       "    </tr>\n",
       "    <tr>\n",
       "      <th>93</th>\n",
       "      <td>94</td>\n",
       "    </tr>\n",
       "    <tr>\n",
       "      <th>146</th>\n",
       "      <td>147</td>\n",
       "    </tr>\n",
       "    <tr>\n",
       "      <th>35</th>\n",
       "      <td>36</td>\n",
       "    </tr>\n",
       "    <tr>\n",
       "      <th>204</th>\n",
       "      <td>205</td>\n",
       "    </tr>\n",
       "    <tr>\n",
       "      <th>63</th>\n",
       "      <td>64</td>\n",
       "    </tr>\n",
       "  </tbody>\n",
       "</table>\n",
       "<p>129 rows × 1 columns</p>\n",
       "</div>"
      ],
      "text/plain": [
       "       X\n",
       "189  190\n",
       "123  124\n",
       "185  186\n",
       "213  214\n",
       "106  107\n",
       "..   ...\n",
       "93    94\n",
       "146  147\n",
       "35    36\n",
       "204  205\n",
       "63    64\n",
       "\n",
       "[129 rows x 1 columns]"
      ]
     },
     "execution_count": 48,
     "metadata": {},
     "output_type": "execute_result"
    }
   ],
   "source": [
    "dataxtest"
   ]
  },
  {
   "cell_type": "code",
   "execution_count": 54,
   "id": "0e93c7c5",
   "metadata": {},
   "outputs": [
    {
     "data": {
      "text/plain": [
       "189    129.888889\n",
       "123     85.888889\n",
       "185    127.222222\n",
       "213    145.888889\n",
       "106     74.555556\n",
       "          ...    \n",
       "93      65.888889\n",
       "146    101.222222\n",
       "35      27.222222\n",
       "204    139.888889\n",
       "63      45.888889\n",
       "Name: Y, Length: 129, dtype: float64"
      ]
     },
     "execution_count": 54,
     "metadata": {},
     "output_type": "execute_result"
    }
   ],
   "source": [
    "dataytest"
   ]
  },
  {
   "cell_type": "code",
   "execution_count": 50,
   "id": "96d2e857",
   "metadata": {},
   "outputs": [],
   "source": [
    "from sklearn.linear_model import LinearRegression"
   ]
  },
  {
   "cell_type": "code",
   "execution_count": 51,
   "id": "bda05184",
   "metadata": {},
   "outputs": [],
   "source": [
    "reg = LinearRegression()"
   ]
  },
  {
   "cell_type": "code",
   "execution_count": 52,
   "id": "7725e5f0",
   "metadata": {},
   "outputs": [
    {
     "data": {
      "text/plain": [
       "LinearRegression()"
      ]
     },
     "execution_count": 52,
     "metadata": {},
     "output_type": "execute_result"
    }
   ],
   "source": [
    "reg.fit(dataxtrain,dataytrain)"
   ]
  },
  {
   "cell_type": "code",
   "execution_count": 53,
   "id": "8ab2cbce",
   "metadata": {},
   "outputs": [
    {
     "data": {
      "text/plain": [
       "array([127.80518809,  85.36851898, 125.23326875, 143.23670413,\n",
       "        74.43786179,  87.94043832, 119.44645023,  53.21952724,\n",
       "       183.10145389, 161.88311934, 177.31463538, 100.80003502,\n",
       "       198.53296993,  43.57482972,  84.72553915,  56.43442641,\n",
       "        13.35477747, 113.65963172, 147.73756297,  24.9284145 ,\n",
       "        23.64245483,  77.00978113, 167.66993785,  13.99775731,\n",
       "        73.79488196,  17.85563632, 197.24701026,  64.15018443,\n",
       "       194.67509092, 124.59028891,  95.65619634, 165.74099835,\n",
       "       153.52438148,  44.21780955,  39.07397087,  62.86422476,\n",
       "        67.36508361, 111.73069221,  57.72038608, 145.80862346,\n",
       "       148.3805428 , 152.88140165, 129.09114776,   8.85391863,\n",
       "        51.29058773, 149.02352264, 166.38397818, 109.80175271,\n",
       "        16.56967665, 140.02180495,   6.28199929, 188.8882724 ,\n",
       "       189.53125224, 118.8034704 , 191.46019174,  82.79659964,\n",
       "        46.14674905, 122.01836957, 143.87968396, 130.37710743,\n",
       "       107.87281321, 102.72897453,  71.86594245, 111.08771238,\n",
       "        78.2957408 , 164.45503868,  31.35821285, 115.58857122,\n",
       "        60.93528526, 162.52609917, 187.60231273,  17.21265648,\n",
       "        77.65276097,  90.51235766,  33.28715236,  75.72382146,\n",
       "       194.03211108,   9.49689847,  63.5072046 ,  30.71523302,\n",
       "       118.16049056,  49.36164823, 170.88483703,  75.08084163,\n",
       "        28.14331368, 122.66134941, 192.74615141, 163.16907901,\n",
       "       132.94902677, 185.67337323, 168.95589752,  18.49861615,\n",
       "        15.28371698,  64.79316427, 196.60403042, 114.30261155,\n",
       "        34.57311203, 186.31635306, 159.3112    ,  83.43957948,\n",
       "       172.81377653,  32.64417252,  57.07740625, 188.24529257,\n",
       "        95.01321651, 126.51922842, 174.0997362 ,  81.51063997,\n",
       "        69.93700295,  11.42583797, 152.23842181, 123.30432924,\n",
       "        91.1553375 ,  26.21437417, 116.23155106,  41.64589021,\n",
       "        24.28543467, 158.02524033, 114.94559139,  37.14503137,\n",
       "       159.95417983, 108.51579304, 141.95074446,  27.50033384,\n",
       "        66.07912394, 100.15705519,  28.78629351, 137.44988561,\n",
       "        46.78972889])"
      ]
     },
     "execution_count": 53,
     "metadata": {},
     "output_type": "execute_result"
    }
   ],
   "source": [
    "reg.predict(dataxtest)"
   ]
  },
  {
   "cell_type": "code",
   "execution_count": 56,
   "id": "b7b17974",
   "metadata": {},
   "outputs": [
    {
     "data": {
      "text/plain": [
       "[<matplotlib.lines.Line2D at 0x23e67816bb0>]"
      ]
     },
     "execution_count": 56,
     "metadata": {},
     "output_type": "execute_result"
    },
    {
     "data": {
      "image/png": "[encoded data removed]",
      "text/plain": [
       "<Figure size 432x288 with 1 Axes>"
      ]
     },
     "metadata": {
      "needs_background": "light"
     },
     "output_type": "display_data"
    }
   ],
   "source": [
    "plt.plot(df.X, reg.predict(df[['X']]))"
   ]
  },
  {
   "cell_type": "code",
   "execution_count": 62,
   "id": "7aff6065",
   "metadata": {},
   "outputs": [
    {
     "name": "stderr",
     "output_type": "stream",
     "text": [
      "C:\\Users\\USER\\anaconda3\\lib\\site-packages\\sklearn\\base.py:450: UserWarning: X does not have valid feature names, but LinearRegression was fitted with feature names\n",
      "  warnings.warn(\n"
     ]
    },
    {
     "data": {
      "text/plain": [
       "array([44.21780955])"
      ]
     },
     "execution_count": 62,
     "metadata": {},
     "output_type": "execute_result"
    }
   ],
   "source": [
    "reg.predict([[60]])"
   ]
  },
  {
   "cell_type": "code",
   "execution_count": 63,
   "id": "83e5a1e9",
   "metadata": {},
   "outputs": [
    {
     "data": {
      "text/plain": [
       "array([0.64297983])"
      ]
     },
     "execution_count": 63,
     "metadata": {},
     "output_type": "execute_result"
    }
   ],
   "source": [
    "#y = mx + c \n",
    "reg.coef_"
   ]
  },
  {
   "cell_type": "code",
   "execution_count": 64,
   "id": "050cf00d",
   "metadata": {},
   "outputs": [
    {
     "data": {
      "text/plain": [
       "5.639019455871193"
      ]
     },
     "execution_count": 64,
     "metadata": {},
     "output_type": "execute_result"
    }
   ],
   "source": [
    "reg.intercept_"
   ]
  },
  {
   "cell_type": "code",
   "execution_count": 65,
   "id": "98b2b8c5",
   "metadata": {},
   "outputs": [],
   "source": [
    "y = 0.64297983*60 + 5.639019455871193"
   ]
  },
  {
   "cell_type": "code",
   "execution_count": 66,
   "id": "55e5fb45",
   "metadata": {},
   "outputs": [
    {
     "data": {
      "text/plain": [
       "44.217809255871195"
      ]
     },
     "execution_count": 66,
     "metadata": {},
     "output_type": "execute_result"
    }
   ],
   "source": [
    "y"
   ]
  },
  {
   "cell_type": "code",
   "execution_count": null,
   "id": "b034dbab",
   "metadata": {},
   "outputs": [],
   "source": []
  }
 ],
 "metadata": {
  "kernelspec": {
   "display_name": "Python 3 (ipykernel)",
   "language": "python",
   "name": "python3"
  },
  "language_info": {
   "codemirror_mode": {
    "name": "ipython",
    "version": 3
   },
   "file_extension": ".py",
   "mimetype": "text/x-python",
   "name": "python",
   "nbconvert_exporter": "python",
   "pygments_lexer": "ipython3",
   "version": "3.9.12"
  }
 },
 "nbformat": 4,
 "nbformat_minor": 5
}
